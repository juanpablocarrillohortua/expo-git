{
  "nbformat": 4,
  "nbformat_minor": 0,
  "metadata": {
    "colab": {
      "provenance": [],
      "authorship_tag": "ABX9TyN1t38ZSDK4nHTCeHfkHadL",
      "include_colab_link": true
    },
    "kernelspec": {
      "name": "python3",
      "display_name": "Python 3"
    },
    "language_info": {
      "name": "python"
    }
  },
  "cells": [
    {
      "cell_type": "markdown",
      "metadata": {
        "id": "view-in-github",
        "colab_type": "text"
      },
      "source": [
        "<a href=\"https://colab.research.google.com/github/juanpablocarrillohortua/expo-git/blob/main/setters%2C_getters%2C_propety.ipynb\" target=\"_parent\"><img src=\"https://colab.research.google.com/assets/colab-badge.svg\" alt=\"Open In Colab\"/></a>"
      ]
    },
    {
      "cell_type": "code",
      "execution_count": null,
      "metadata": {
        "id": "1ujbqtGH6vSc"
      },
      "outputs": [],
      "source": [
        "class Producto:\n",
        "    def __init__(self, precio):\n",
        "        self.__precio = precio  #atributo privado\n",
        "\n",
        "    # Getter para el precio\n",
        "    def get_precio(self):\n",
        "      return self.__precio\n",
        "\n",
        "    # Setter para el precio\n",
        "    def set_precio(self, nuevo_precio):\n",
        "      self.__precio = nuevo_precio\n"
      ]
    },
    {
      "cell_type": "code",
      "source": [
        "manzana = Producto(200)"
      ],
      "metadata": {
        "id": "u_nG-VKRCPhc"
      },
      "execution_count": null,
      "outputs": []
    },
    {
      "cell_type": "code",
      "source": [
        "manzana.__precio #si intentamos acceder normalmente da error"
      ],
      "metadata": {
        "colab": {
          "base_uri": "https://localhost:8080/",
          "height": 141
        },
        "id": "P4HEhFxOCSnJ",
        "outputId": "5a2d29b3-e8a9-45f3-df1a-af4ab94332e2"
      },
      "execution_count": null,
      "outputs": [
        {
          "output_type": "error",
          "ename": "AttributeError",
          "evalue": "'Producto' object has no attribute '__precio'",
          "traceback": [
            "\u001b[0;31m---------------------------------------------------------------------------\u001b[0m",
            "\u001b[0;31mAttributeError\u001b[0m                            Traceback (most recent call last)",
            "\u001b[0;32m/tmp/ipython-input-428021729.py\u001b[0m in \u001b[0;36m<cell line: 0>\u001b[0;34m()\u001b[0m\n\u001b[0;32m----> 1\u001b[0;31m \u001b[0mmanzana\u001b[0m\u001b[0;34m.\u001b[0m\u001b[0m__precio\u001b[0m \u001b[0;31m#si intentamos acceder normalmente da error\u001b[0m\u001b[0;34m\u001b[0m\u001b[0;34m\u001b[0m\u001b[0m\n\u001b[0m",
            "\u001b[0;31mAttributeError\u001b[0m: 'Producto' object has no attribute '__precio'"
          ]
        }
      ]
    },
    {
      "cell_type": "code",
      "source": [
        "manzana.get_precio() #nos permite acceder a el atributo, pero no se siente natural"
      ],
      "metadata": {
        "colab": {
          "base_uri": "https://localhost:8080/"
        },
        "id": "e-I0bZ3MCY72",
        "outputId": "49852d56-f341-4354-852c-2d9d34e2b5c8"
      },
      "execution_count": null,
      "outputs": [
        {
          "output_type": "execute_result",
          "data": {
            "text/plain": [
              "200"
            ]
          },
          "metadata": {},
          "execution_count": 5
        }
      ]
    },
    {
      "cell_type": "markdown",
      "source": [
        "# Ejemplo 2"
      ],
      "metadata": {
        "id": "NgQ74_0aCf7f"
      }
    },
    {
      "cell_type": "code",
      "source": [
        "class Producto:\n",
        "    def __init__(self, precio):\n",
        "        self.__precio = precio  #atributo privado\n",
        "\n",
        "    # Getter para el precio, definido como propiedad\n",
        "    @property\n",
        "    def precio(self):\n",
        "      return self.__precio\n",
        "\n",
        "    # Setter para el precio\n",
        "    @precio.setter\n",
        "    def precio(self, nuevo_precio):\n",
        "      self.__precio = nuevo_precio"
      ],
      "metadata": {
        "id": "Hvu5scQ5CyLC"
      },
      "execution_count": null,
      "outputs": []
    },
    {
      "cell_type": "code",
      "source": [
        "manzana = Producto(200)"
      ],
      "metadata": {
        "id": "-l6z0Z14C_2_"
      },
      "execution_count": null,
      "outputs": []
    },
    {
      "cell_type": "code",
      "source": [
        "manzana.precio #nos permite acceder naturalmente\n",
        "               #al atributo encapsulado"
      ],
      "metadata": {
        "colab": {
          "base_uri": "https://localhost:8080/"
        },
        "id": "nZs3a-esDBwb",
        "outputId": "d430e1b0-9c4b-48ca-faaf-edf91a3439cd"
      },
      "execution_count": null,
      "outputs": [
        {
          "output_type": "execute_result",
          "data": {
            "text/plain": [
              "200"
            ]
          },
          "metadata": {},
          "execution_count": 8
        }
      ]
    },
    {
      "cell_type": "code",
      "source": [
        "manzana.precio = 9 #nos permite modificar naturalmente\n",
        "                   #al atributo encapsulado"
      ],
      "metadata": {
        "id": "AzSt7muNDFl5"
      },
      "execution_count": null,
      "outputs": []
    },
    {
      "cell_type": "code",
      "source": [
        "manzana.precio"
      ],
      "metadata": {
        "colab": {
          "base_uri": "https://localhost:8080/"
        },
        "id": "7VdEufmzDQWr",
        "outputId": "a77bf647-13ee-4c6c-de89-451ba35f50a3"
      },
      "execution_count": null,
      "outputs": [
        {
          "output_type": "execute_result",
          "data": {
            "text/plain": [
              "9"
            ]
          },
          "metadata": {},
          "execution_count": 10
        }
      ]
    },
    {
      "cell_type": "markdown",
      "source": [
        "# Ejemplo 3 (validacion de datos del atributo)"
      ],
      "metadata": {
        "id": "8EBX9VijDRhJ"
      }
    },
    {
      "cell_type": "code",
      "source": [
        "class Empresa:\n",
        "  def __init__(self, estrellas) -> None:\n",
        "    #primera validacion en la creacion\n",
        "    if 0 <= estrellas <= 5:\n",
        "      self.__estrellas = estrellas\n",
        "    else:\n",
        "      raise ValueError(\"la cantidad ingresada no esta entre 0 y 5 (constructor)\")\n",
        "\n",
        "  @property\n",
        "  def estrellas(self):\n",
        "    return self.__estrellas\n",
        "\n",
        "  @estrellas.setter\n",
        "  def estrellas(self, cantidad):\n",
        "    #validacion para modificar el atributo\n",
        "    if 0 <= cantidad <= 5:\n",
        "      self.__estrellas = cantidad\n",
        "    else:\n",
        "      raise ValueError(\"la cantidad ingresada no esta entre 0 y 5 (setter)\")"
      ],
      "metadata": {
        "id": "XpBbDL3gD-7G"
      },
      "execution_count": null,
      "outputs": []
    },
    {
      "cell_type": "code",
      "source": [
        "Nike = Empresa(6) #falla en el constructor"
      ],
      "metadata": {
        "colab": {
          "base_uri": "https://localhost:8080/",
          "height": 263
        },
        "id": "3MjVBDMiEd5o",
        "outputId": "f9f378fc-0c18-47c5-8ad8-784af534a1a5"
      },
      "execution_count": null,
      "outputs": [
        {
          "output_type": "error",
          "ename": "ValueError",
          "evalue": "la cantidad ingresada no esta entre 0 y 5 (constructor)",
          "traceback": [
            "\u001b[0;31m---------------------------------------------------------------------------\u001b[0m",
            "\u001b[0;31mValueError\u001b[0m                                Traceback (most recent call last)",
            "\u001b[0;32m/tmp/ipython-input-447629806.py\u001b[0m in \u001b[0;36m<cell line: 0>\u001b[0;34m()\u001b[0m\n\u001b[0;32m----> 1\u001b[0;31m \u001b[0mNike\u001b[0m \u001b[0;34m=\u001b[0m \u001b[0mEmpresa\u001b[0m\u001b[0;34m(\u001b[0m\u001b[0;36m6\u001b[0m\u001b[0;34m)\u001b[0m \u001b[0;31m#falla en el constructor\u001b[0m\u001b[0;34m\u001b[0m\u001b[0;34m\u001b[0m\u001b[0m\n\u001b[0m",
            "\u001b[0;32m/tmp/ipython-input-1657297368.py\u001b[0m in \u001b[0;36m__init__\u001b[0;34m(self, estrellas)\u001b[0m\n\u001b[1;32m      5\u001b[0m       \u001b[0mself\u001b[0m\u001b[0;34m.\u001b[0m\u001b[0m__estrellas\u001b[0m \u001b[0;34m=\u001b[0m \u001b[0mestrellas\u001b[0m\u001b[0;34m\u001b[0m\u001b[0;34m\u001b[0m\u001b[0m\n\u001b[1;32m      6\u001b[0m     \u001b[0;32melse\u001b[0m\u001b[0;34m:\u001b[0m\u001b[0;34m\u001b[0m\u001b[0;34m\u001b[0m\u001b[0m\n\u001b[0;32m----> 7\u001b[0;31m       \u001b[0;32mraise\u001b[0m \u001b[0mValueError\u001b[0m\u001b[0;34m(\u001b[0m\u001b[0;34m\"la cantidad ingresada no esta entre 0 y 5 (constructor)\"\u001b[0m\u001b[0;34m)\u001b[0m\u001b[0;34m\u001b[0m\u001b[0;34m\u001b[0m\u001b[0m\n\u001b[0m\u001b[1;32m      8\u001b[0m \u001b[0;34m\u001b[0m\u001b[0m\n\u001b[1;32m      9\u001b[0m   \u001b[0;34m@\u001b[0m\u001b[0mproperty\u001b[0m\u001b[0;34m\u001b[0m\u001b[0;34m\u001b[0m\u001b[0m\n",
            "\u001b[0;31mValueError\u001b[0m: la cantidad ingresada no esta entre 0 y 5 (constructor)"
          ]
        }
      ]
    },
    {
      "cell_type": "code",
      "source": [
        "Nike = Empresa(4)\n",
        "Nike.estrellas = 7 #falla la validacion del setter"
      ],
      "metadata": {
        "colab": {
          "base_uri": "https://localhost:8080/",
          "height": 245
        },
        "id": "wFgTDfW4E-49",
        "outputId": "7c05dbe1-9b08-4d09-f826-375eb2c7891e"
      },
      "execution_count": null,
      "outputs": [
        {
          "output_type": "error",
          "ename": "ValueError",
          "evalue": "la cantidad ingresada no esta entre 0 y 5 (setter)",
          "traceback": [
            "\u001b[0;31m---------------------------------------------------------------------------\u001b[0m",
            "\u001b[0;31mValueError\u001b[0m                                Traceback (most recent call last)",
            "\u001b[0;32m/tmp/ipython-input-2489058093.py\u001b[0m in \u001b[0;36m<cell line: 0>\u001b[0;34m()\u001b[0m\n\u001b[1;32m      1\u001b[0m \u001b[0mNike\u001b[0m \u001b[0;34m=\u001b[0m \u001b[0mEmpresa\u001b[0m\u001b[0;34m(\u001b[0m\u001b[0;36m4\u001b[0m\u001b[0;34m)\u001b[0m\u001b[0;34m\u001b[0m\u001b[0;34m\u001b[0m\u001b[0m\n\u001b[0;32m----> 2\u001b[0;31m \u001b[0mNike\u001b[0m\u001b[0;34m.\u001b[0m\u001b[0mestrellas\u001b[0m \u001b[0;34m=\u001b[0m \u001b[0;36m7\u001b[0m \u001b[0;31m#falla la validacion del setter\u001b[0m\u001b[0;34m\u001b[0m\u001b[0;34m\u001b[0m\u001b[0m\n\u001b[0m",
            "\u001b[0;32m/tmp/ipython-input-1657297368.py\u001b[0m in \u001b[0;36mestrellas\u001b[0;34m(self, cantidad)\u001b[0m\n\u001b[1;32m     17\u001b[0m       \u001b[0mself\u001b[0m\u001b[0;34m.\u001b[0m\u001b[0m__estrellas\u001b[0m \u001b[0;34m=\u001b[0m \u001b[0mcantidad\u001b[0m\u001b[0;34m\u001b[0m\u001b[0;34m\u001b[0m\u001b[0m\n\u001b[1;32m     18\u001b[0m     \u001b[0;32melse\u001b[0m\u001b[0;34m:\u001b[0m\u001b[0;34m\u001b[0m\u001b[0;34m\u001b[0m\u001b[0m\n\u001b[0;32m---> 19\u001b[0;31m       \u001b[0;32mraise\u001b[0m \u001b[0mValueError\u001b[0m\u001b[0;34m(\u001b[0m\u001b[0;34m\"la cantidad ingresada no esta entre 0 y 5 (setter)\"\u001b[0m\u001b[0;34m)\u001b[0m\u001b[0;34m\u001b[0m\u001b[0;34m\u001b[0m\u001b[0m\n\u001b[0m",
            "\u001b[0;31mValueError\u001b[0m: la cantidad ingresada no esta entre 0 y 5 (setter)"
          ]
        }
      ]
    },
    {
      "cell_type": "code",
      "source": [
        "Nike = Empresa(4)\n",
        "Nike.estrellas = 5 #todo en orden"
      ],
      "metadata": {
        "id": "pqwxm_6tFWrE"
      },
      "execution_count": null,
      "outputs": []
    },
    {
      "cell_type": "markdown",
      "source": [
        "#Ejemplo 4, atributo calculado"
      ],
      "metadata": {
        "id": "JO4BoFjuFer5"
      }
    },
    {
      "cell_type": "code",
      "source": [
        "class Cuadrado:\n",
        "  def __init__(self, lado) -> None:\n",
        "    #note que el lado no esta encapsulado\n",
        "    self.lado = lado\n",
        "\n",
        "  @property\n",
        "  def area(self):\n",
        "    return self.lado**2\n",
        "\n",
        "  #no creamos setter ya que no tiene logica\n",
        "  #cambiar el area sin cambiar el lado\n",
        "  #ademas su valor no esta almacenado y no es\n",
        "  #posible cambiarlo con un setter"
      ],
      "metadata": {
        "id": "eN4HmQZ0GOHi"
      },
      "execution_count": null,
      "outputs": []
    },
    {
      "cell_type": "code",
      "source": [
        "c = Cuadrado(5)"
      ],
      "metadata": {
        "id": "-fBFWYXcG_gU"
      },
      "execution_count": null,
      "outputs": []
    },
    {
      "cell_type": "code",
      "source": [
        "c.area #se llama como un atributo"
      ],
      "metadata": {
        "colab": {
          "base_uri": "https://localhost:8080/"
        },
        "id": "voc94SGpHO95",
        "outputId": "c71d756d-065d-47e2-e3e6-5db0e4d8f334"
      },
      "execution_count": null,
      "outputs": [
        {
          "output_type": "execute_result",
          "data": {
            "text/plain": [
              "25"
            ]
          },
          "metadata": {},
          "execution_count": 27
        }
      ]
    },
    {
      "cell_type": "markdown",
      "source": [
        "#Ejemplo 6 con del"
      ],
      "metadata": {
        "id": "r7RLb5hxHQAp"
      }
    },
    {
      "cell_type": "markdown",
      "source": [
        "##la palabra clave :\n",
        "\n",
        "```\n",
        "del\n",
        "```\n",
        "elimina el atributo sin encapsular de una clase\n",
        "\n",
        "\n",
        "\n",
        "\n",
        "![image.png](data:image/png;base64,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)"
      ],
      "metadata": {
        "id": "o_h_kaqlL3k6"
      }
    },
    {
      "cell_type": "markdown",
      "source": [
        "##si el atributo esta encapsulado ya que queremos restringir su logica hacemos"
      ],
      "metadata": {
        "id": "lSCKYHf5L5Zg"
      }
    },
    {
      "cell_type": "code",
      "source": [
        "class User:\n",
        "  def __init__(self,password) -> None:\n",
        "    self.__password = password #privado\n",
        "\n",
        "  @property\n",
        "  def password(self):\n",
        "    if self.__password == None:\n",
        "      print(\"el usuario no tiene contraseña\")\n",
        "    else:\n",
        "      print(\"el usuario si tiene contraseña\") # no revela la contraseña\n",
        "\n",
        "  @password.setter\n",
        "  def password(self, value):\n",
        "    if len(value) > 5:\n",
        "      self.__password = value\n",
        "    else:\n",
        "      raise ValueError(\"contraseña demasiado corta\")\n",
        "\n",
        "  @password.deleter\n",
        "  def password(self):\n",
        "    self.__password = None\n",
        "    print(\"contraseña borrada\")\n"
      ],
      "metadata": {
        "id": "qZuhEgtuKp8v"
      },
      "execution_count": null,
      "outputs": []
    },
    {
      "cell_type": "code",
      "source": [
        "a = User(\"holaa\")"
      ],
      "metadata": {
        "id": "nsqre40UK0ld"
      },
      "execution_count": null,
      "outputs": []
    },
    {
      "cell_type": "code",
      "source": [
        "a.password #no nos dice el valor de la contraseña (holaa)"
      ],
      "metadata": {
        "colab": {
          "base_uri": "https://localhost:8080/"
        },
        "id": "2EYjNJtuPfgj",
        "outputId": "f9b0a47c-1f20-4262-8879-60ec1cbe2f42"
      },
      "execution_count": null,
      "outputs": [
        {
          "output_type": "stream",
          "name": "stdout",
          "text": [
            "el usuario si tiene contraseña\n"
          ]
        }
      ]
    },
    {
      "cell_type": "code",
      "source": [
        "a.password = \"a\" #no permite poner una letra como contraseña"
      ],
      "metadata": {
        "colab": {
          "base_uri": "https://localhost:8080/",
          "height": 263
        },
        "id": "_SLpg5TuPiTp",
        "outputId": "911c5948-f8c9-4508-99a9-0c56f1145171"
      },
      "execution_count": null,
      "outputs": [
        {
          "output_type": "error",
          "ename": "ValueError",
          "evalue": "contraseña demasiado corta",
          "traceback": [
            "\u001b[0;31m---------------------------------------------------------------------------\u001b[0m",
            "\u001b[0;31mValueError\u001b[0m                                Traceback (most recent call last)",
            "\u001b[0;32m/tmp/ipython-input-482647395.py\u001b[0m in \u001b[0;36m<cell line: 0>\u001b[0;34m()\u001b[0m\n\u001b[0;32m----> 1\u001b[0;31m \u001b[0ma\u001b[0m\u001b[0;34m.\u001b[0m\u001b[0mpassword\u001b[0m \u001b[0;34m=\u001b[0m \u001b[0;34m\"a\"\u001b[0m\u001b[0;34m\u001b[0m\u001b[0;34m\u001b[0m\u001b[0m\n\u001b[0m",
            "\u001b[0;32m/tmp/ipython-input-3988231048.py\u001b[0m in \u001b[0;36mpassword\u001b[0;34m(self, value)\u001b[0m\n\u001b[1;32m     15\u001b[0m       \u001b[0mself\u001b[0m\u001b[0;34m.\u001b[0m\u001b[0m__password\u001b[0m \u001b[0;34m=\u001b[0m \u001b[0mvalue\u001b[0m\u001b[0;34m\u001b[0m\u001b[0;34m\u001b[0m\u001b[0m\n\u001b[1;32m     16\u001b[0m     \u001b[0;32melse\u001b[0m\u001b[0;34m:\u001b[0m\u001b[0;34m\u001b[0m\u001b[0;34m\u001b[0m\u001b[0m\n\u001b[0;32m---> 17\u001b[0;31m       \u001b[0;32mraise\u001b[0m \u001b[0mValueError\u001b[0m\u001b[0;34m(\u001b[0m\u001b[0;34m\"contraseña demasiado corta\"\u001b[0m\u001b[0;34m)\u001b[0m\u001b[0;34m\u001b[0m\u001b[0;34m\u001b[0m\u001b[0m\n\u001b[0m\u001b[1;32m     18\u001b[0m \u001b[0;34m\u001b[0m\u001b[0m\n\u001b[1;32m     19\u001b[0m   \u001b[0;34m@\u001b[0m\u001b[0mpassword\u001b[0m\u001b[0;34m.\u001b[0m\u001b[0mdeleter\u001b[0m\u001b[0;34m\u001b[0m\u001b[0;34m\u001b[0m\u001b[0m\n",
            "\u001b[0;31mValueError\u001b[0m: contraseña demasiado corta"
          ]
        }
      ]
    },
    {
      "cell_type": "code",
      "source": [
        "a.password = \"adioooos\" #todo en orden"
      ],
      "metadata": {
        "id": "Ev9ZCwW9PoAk"
      },
      "execution_count": null,
      "outputs": []
    },
    {
      "cell_type": "code",
      "source": [
        "del a.password\n",
        "a.password"
      ],
      "metadata": {
        "id": "kRkFSKSKPujU",
        "outputId": "a3daee5a-7dc3-44db-87ae-6a5fd3f80cf6",
        "colab": {
          "base_uri": "https://localhost:8080/"
        }
      },
      "execution_count": null,
      "outputs": [
        {
          "output_type": "stream",
          "name": "stdout",
          "text": [
            "contraseña borrada\n",
            "el usuario no tiene contraseña\n"
          ]
        }
      ]
    },
    {
      "cell_type": "code",
      "source": [],
      "metadata": {
        "id": "bM-GEc30Px75"
      },
      "execution_count": null,
      "outputs": []
    }
  ]
}